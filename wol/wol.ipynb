{
 "cells": [
  {
   "cell_type": "code",
   "execution_count": 19,
   "id": "906f3844",
   "metadata": {},
   "outputs": [
    {
     "name": "stdout",
     "output_type": "stream",
     "text": [
      "Requirement already satisfied: scapy in c:\\python312\\lib\\site-packages (2.6.1)"
     ]
    },
    {
     "name": "stderr",
     "output_type": "stream",
     "text": [
      "\n"
     ]
    },
    {
     "name": "stdout",
     "output_type": "stream",
     "text": [
      "\n"
     ]
    },
    {
     "name": "stderr",
     "output_type": "stream",
     "text": [
      "[notice] A new release of pip is available: 24.0 -> 25.2\n",
      "[notice] To update, run: python.exe -m pip install --upgrade pip\n"
     ]
    },
    {
     "name": "stdout",
     "output_type": "stream",
     "text": [
      "Note: you may need to restart the kernel to use updated packages.\n"
     ]
    }
   ],
   "source": [
    "%pip install scapy"
   ]
  },
  {
   "cell_type": "code",
   "execution_count": 56,
   "id": "0f0ae143",
   "metadata": {},
   "outputs": [],
   "source": [
    "from scapy.all import *\n",
    "\n",
    "def wol_packet(mac,ip):\n",
    "    # Normaliza MAC\n",
    "    mac_bytes = bytes.fromhex(mac.replace(\":\", \"\").replace(\"-\", \"\"))\n",
    "    \n",
    "    # Magic Packet = 6 bytes FF + 16 vezes o MAC\n",
    "    magic = b\"\\xff\" * 6 + mac_bytes * 16\n",
    "\n",
    "    # Montar pacote\n",
    "    ether = Ether()\n",
    "    ip    = IP(dst=ip)\n",
    "    udp   = UDP(dport=9, sport=9)  # porta 9 é a mais usada\n",
    "    pkt   = ether / ip / udp / Raw(load=magic)\n",
    "    \n",
    "    return pkt"
   ]
  },
  {
   "cell_type": "code",
   "execution_count": null,
   "id": "aadf2515",
   "metadata": {},
   "outputs": [],
   "source": [
    "# Exemplo de uso\n",
    "ip_dest = ''\n",
    "mac_destino = \"\".upper()\n",
    "\n",
    "pkt = wol_packet(mac_destino, ip_dest)\n",
    "pkt.show2()\n",
    "\n",
    "# Enviar\n",
    "sendp(pkt, verbose=1, count=3)"
   ]
  },
  {
   "cell_type": "code",
   "execution_count": null,
   "id": "7dd448e4",
   "metadata": {},
   "outputs": [],
   "source": [
    "try:\n",
    "    cmd = [\n",
    "        \"shutdown\",\n",
    "        \"-s\",\n",
    "        \"-t\", \"0\",\n",
    "        \"-m\", f\"\\\\\\\\{ip_dest}\"\n",
    "    ]\n",
    "    subprocess.run(cmd, check=True)\n",
    "    result = f\"Shutdown enviado para {ip_dest}\"\n",
    "except Exception as e:\n",
    "    result = f\"Erro no shutdown: {e}\"\n",
    "\n",
    "print(result)"
   ]
  }
 ],
 "metadata": {
  "kernelspec": {
   "display_name": "Python 3",
   "language": "python",
   "name": "python3"
  },
  "language_info": {
   "codemirror_mode": {
    "name": "ipython",
    "version": 3
   },
   "file_extension": ".py",
   "mimetype": "text/x-python",
   "name": "python",
   "nbconvert_exporter": "python",
   "pygments_lexer": "ipython3",
   "version": "3.12.2"
  }
 },
 "nbformat": 4,
 "nbformat_minor": 5
}
